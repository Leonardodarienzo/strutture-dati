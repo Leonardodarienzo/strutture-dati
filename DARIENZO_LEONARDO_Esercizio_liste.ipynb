{
  "nbformat": 4,
  "nbformat_minor": 0,
  "metadata": {
    "colab": {
      "provenance": [],
      "include_colab_link": true
    },
    "kernelspec": {
      "name": "python3",
      "display_name": "Python 3"
    },
    "language_info": {
      "name": "python"
    }
  },
  "cells": [
    {
      "cell_type": "markdown",
      "metadata": {
        "id": "view-in-github",
        "colab_type": "text"
      },
      "source": [
        "<a href=\"https://colab.research.google.com/github/Leonardodarienzo/strutture-dati/blob/main/DARIENZO_LEONARDO_Esercizio_liste.ipynb\" target=\"_parent\"><img src=\"https://colab.research.google.com/assets/colab-badge.svg\" alt=\"Open In Colab\"/></a>"
      ]
    },
    {
      "cell_type": "markdown",
      "source": [
        "#Esercizio 1"
      ],
      "metadata": {
        "id": "F1InHJmbdM6X"
      }
    },
    {
      "cell_type": "markdown",
      "source": [
        "Cercare su internet le infomrazioni riguardanti le statistiche sui casi di COVID nelle regioni italiane (casi totali) e memorizzarli in opportune struttture dati. Scrivere poi le istruzioni per avere le seguenti informazioni:\n",
        "\n"
      ],
      "metadata": {
        "id": "QhSL9Ve9bdnO"
      }
    },
    {
      "cell_type": "markdown",
      "source": [
        "1. il numero totale di casi di COVID in ITalia"
      ],
      "metadata": {
        "id": "xkMF7u4fcPHU"
      }
    },
    {
      "cell_type": "code",
      "source": [
        "numeriCasiCOVID = [3660000,2330000,2260000,2100000,1900000,1660000,1530000,1490000,1430000,636000,587000,571000,567000,506000,456000,387000,272000,221000,186000,91703,45876]\n",
        "regioni = [\"Lombardia\",\"Veneto\",\"Campania\",\"Lazio\",\"Emilia-romagna\",\"Sicilia\",\"Piemonte\",\"Puglia\",\"Toscana\",\"Marche\",\"Liguria\",\"Abruzzo\",\"Calabria\",\"Friuli-Venezia Giulia\",\"Sardegna\",\"Umbria\",\"Provincia di Bolzano-Alto Adige\",\"Provincia di Trento\",\"Basilicata\",\"Molise\",\"Valle d'Aosta\"]\n",
        "sum(numeriCasiCOVID)"
      ],
      "metadata": {
        "id": "_FhU3WWPcSc0",
        "colab": {
          "base_uri": "https://localhost:8080/"
        },
        "outputId": "cc083c9a-686a-4182-fb6b-bf79bb38ab09"
      },
      "execution_count": null,
      "outputs": [
        {
          "output_type": "execute_result",
          "data": {
            "text/plain": [
              "22886579"
            ]
          },
          "metadata": {},
          "execution_count": 3
        }
      ]
    },
    {
      "cell_type": "markdown",
      "source": [
        "2. il numero medio di casi di COVID in Italia"
      ],
      "metadata": {
        "id": "cEbSqa1FcTQs"
      }
    },
    {
      "cell_type": "code",
      "source": [
        "from statistics import mean \n",
        "mean(numeriCasiCOVID)"
      ],
      "metadata": {
        "id": "g1IbY5N7cW10",
        "colab": {
          "base_uri": "https://localhost:8080/"
        },
        "outputId": "db2f8cfc-ad08-41c1-9826-d464b82c05c4"
      },
      "execution_count": null,
      "outputs": [
        {
          "output_type": "execute_result",
          "data": {
            "text/plain": [
              "1089837.0952380951"
            ]
          },
          "metadata": {},
          "execution_count": 4
        }
      ]
    },
    {
      "cell_type": "markdown",
      "source": [
        "3. le regioni che hanno avuto un numero di casi superiore alla media"
      ],
      "metadata": {
        "id": "RV60Rp2DcXJ1"
      }
    },
    {
      "cell_type": "code",
      "source": [
        "media = mean(numeriCasiCOVID)\n",
        "for ncasi in numeriCasiCOVID:\n",
        "  if ncasi > media:\n",
        "     print(regioni[numeriCasiCOVID.index(ncasi)])\n"
      ],
      "metadata": {
        "id": "MVte31bQcbva",
        "colab": {
          "base_uri": "https://localhost:8080/"
        },
        "outputId": "bf620b7c-0692-40e6-9597-5fbfce8c25d6"
      },
      "execution_count": null,
      "outputs": [
        {
          "output_type": "stream",
          "name": "stdout",
          "text": [
            "Lombardia\n",
            "Veneto\n",
            "Campania\n",
            "Lazio\n",
            "Emilia-romagna\n",
            "Sicilia\n",
            "Piemonte\n",
            "Puglia\n",
            "Toscana\n"
          ]
        }
      ]
    },
    {
      "cell_type": "markdown",
      "source": [
        "4. la percentuale di casi di COVID nelle varie regioni rispetto al totale italiano. Caricare questi dati in un'altra lista"
      ],
      "metadata": {
        "id": "qcz6bUGqccXh"
      }
    },
    {
      "cell_type": "code",
      "source": [
        "tot = sum(numeriCasiCOVID)\n",
        "ListaPerc = [Numcasi / tot * 100 for Numcasi in numeriCasiCOVID] #creo lista per la percentuale, uso perc(variabile) per calcolare la percentuale con la formula\n",
        "print(ListaPerc)\n",
        "                                                     #uso il for per calcolare la percetuale con la variabile perc, per tutte le regioni con (in CasiReg)\n",
        "                                                       \n",
        "#Lista = [round(item) for item in ListaPerc] #per rimuovere i numeri dopo la virgola\n",
        "#print(Lista)\n",
        "lista2 = [round(item,2) for item in ListaPerc]\n",
        "print(lista2)"
      ],
      "metadata": {
        "id": "wZAeQZUrcpup"
      },
      "execution_count": null,
      "outputs": []
    },
    {
      "cell_type": "markdown",
      "source": [
        "Cercare adesso la popolazione delle varie regioni italiane e caricare i dati in una opportuna struttura dati."
      ],
      "metadata": {
        "id": "NsxW5y1NcqHj"
      }
    },
    {
      "cell_type": "code",
      "source": [
        "NumPopolReg = [9965046, 4854633, 5590681, 5715190, 4431816, 4801468, 4252279, 3912166, 3676285, 1489789, 1507438, 1273660, 1844586, 1197295, 1579181, 859572, 520891, 538223 , 539999, 290769, 123337]"
      ],
      "metadata": {
        "id": "0ey1FJW4cwtS"
      },
      "execution_count": null,
      "outputs": []
    },
    {
      "cell_type": "markdown",
      "source": [
        "5. trovare, per ogni regione, la percentuale di casi sul totale della popolazione di quella regione: caricare i dati in un'altra lista. Trovare poi la region che ha avuto più casi in rapporto alla popolazione"
      ],
      "metadata": {
        "id": "O08u1Y_mcxFr"
      }
    },
    {
      "cell_type": "code",
      "source": [
        "listaperc = [round(numeriCasiCOVID[indice] / NumPopolReg[indice]*100,3) for indice in range (len(numeriCasiCOVID))]\n",
        "print(listaperc)"
      ],
      "metadata": {
        "id": "JLt5Ey_Wc-Pp"
      },
      "execution_count": null,
      "outputs": []
    },
    {
      "cell_type": "markdown",
      "source": [
        "6. trovare la regione che ha avuto meno casi in relazione alla popolazione"
      ],
      "metadata": {
        "id": "uULjwtSVc-pc"
      }
    },
    {
      "cell_type": "code",
      "source": [
        "#percentuali = [(percentuale / tot) * 100 for percentuale in CasiReg]\n",
        "min = min(numeriCasiCOVID)"
      ],
      "metadata": {
        "id": "b11IAXxHdC-h"
      },
      "execution_count": null,
      "outputs": []
    },
    {
      "cell_type": "markdown",
      "source": [
        "#Esercizio 2"
      ],
      "metadata": {
        "id": "lDj-tyLwdDTh"
      }
    },
    {
      "cell_type": "markdown",
      "source": [
        "1. Creare due liste di 20 numeri casuali interi, compresi tra 1 e 10 non utilizzzando la list comprehension. Determinare il tempo di esecuzione di questo programma"
      ],
      "metadata": {
        "id": "HiNbJe-ldQTC"
      }
    },
    {
      "cell_type": "code",
      "source": [
        "import random\n",
        "import time\n",
        "start = time.time()\n",
        "listacasuali = []\n",
        "listacasuali2 = []\n",
        "for casual in range(20):\n",
        "  listacasuali.append(casual)\n",
        "  listacasuali2.append(casual)\n",
        "\n",
        "end = time.time()\n",
        "print(listacasuali)\n",
        "print(listacasuali2)\n"
      ],
      "metadata": {
        "id": "hruqXxVAdWHr"
      },
      "execution_count": null,
      "outputs": []
    },
    {
      "cell_type": "markdown",
      "source": [
        "2. Creare due liste di 20 numeri casuali interi, compresi tra 1 e 10  utilizzzando la list comprehension. Determinare il tempo di esecuzione di questo programma\n"
      ],
      "metadata": {
        "id": "wu_rcB1-dWgK"
      }
    },
    {
      "cell_type": "code",
      "source": [
        "import random\n",
        "import time\n",
        "start = time.time()\n",
        "listacasuali  = [random.randint(1,10)for cas in range (20)]\n",
        "listacasuali2 = [random.randint(1,10)for cas in range (20)]\n",
        "end = time.time()\n",
        "print(end - start)\n"
      ],
      "metadata": {
        "id": "rqz-1n7qdx3A",
        "colab": {
          "base_uri": "https://localhost:8080/"
        },
        "outputId": "3b43b8e8-9afa-47c6-fb1a-e58aaf117415"
      },
      "execution_count": null,
      "outputs": [
        {
          "output_type": "stream",
          "name": "stdout",
          "text": [
            "0.0002961158752441406\n"
          ]
        }
      ]
    },
    {
      "cell_type": "markdown",
      "source": [
        "3. creare una terza lista di valore booleani: inserire un valore vero se il primo elemento della prima lista è maggiore del primo elemento della seconda lista e così via per tutti gli elemeni delle due liste"
      ],
      "metadata": {
        "id": "ep4BmOYddyIi"
      }
    },
    {
      "cell_type": "code",
      "source": [
        "listabooleani = []\n",
        "for i in range(20):\n",
        "  if listacasuali[i] > listacasuali2[i]:\n",
        "     listabooleani.append(0)\n",
        "print(listacasuali)\n",
        "print(listacasuali2)\n",
        "print(listabooleani)\n"
      ],
      "metadata": {
        "id": "838ZxBNVeCfn"
      },
      "execution_count": null,
      "outputs": []
    },
    {
      "cell_type": "markdown",
      "source": [
        "4. utilizzando la terza lista, contare quanti sono gli elementi della prima lista che sono maggiori della seconda lista"
      ],
      "metadata": {
        "id": "pJcj5hNVeC4b"
      }
    },
    {
      "cell_type": "code",
      "source": [
        "print(len(listacasuali2))"
      ],
      "metadata": {
        "id": "ZOdPph2WeMBg"
      },
      "execution_count": null,
      "outputs": []
    },
    {
      "cell_type": "markdown",
      "source": [
        "5. eliminare dalla seconda lista tutti gli elementi minori rispetto a quelli della prima lista, inserendoli in una quarta lista"
      ],
      "metadata": {
        "id": "9KHq-xy7eMYO"
      }
    },
    {
      "cell_type": "code",
      "source": [
        "listacasuali3 = []\n",
        "for j in range(20):\n",
        "  if listacasuali2[j] < listacasuali[j]:\n",
        "    listacasuali2.append(listacasuali2[j])\n",
        "print(listacasuali2)\n",
        "print(listacasuali3)"
      ],
      "metadata": {
        "id": "VfgmqLmteRbD"
      },
      "execution_count": null,
      "outputs": []
    },
    {
      "cell_type": "markdown",
      "source": [
        "6. svuotare tutte e quattro le liste"
      ],
      "metadata": {
        "id": "R83H7_oheRzI"
      }
    },
    {
      "cell_type": "code",
      "source": [
        "listacasuali.clear()\n",
        "listacasuali2.clear()\n",
        "listacasuali3.clear()"
      ],
      "metadata": {
        "id": "iPDbfgW2efAJ"
      },
      "execution_count": null,
      "outputs": []
    },
    {
      "cell_type": "markdown",
      "source": [
        "print(listaperc.index(min[listaperc])"
      ],
      "metadata": {
        "id": "Vwg9_kfcr33X"
      }
    }
  ]
}