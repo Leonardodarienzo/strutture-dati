{
  "nbformat": 4,
  "nbformat_minor": 0,
  "metadata": {
    "colab": {
      "provenance": [],
      "include_colab_link": true
    },
    "kernelspec": {
      "name": "python3",
      "display_name": "Python 3"
    },
    "language_info": {
      "name": "python"
    }
  },
  "cells": [
    {
      "cell_type": "markdown",
      "metadata": {
        "id": "view-in-github",
        "colab_type": "text"
      },
      "source": [
        "<a href=\"https://colab.research.google.com/github/Leonardodarienzo/strutture-dati/blob/main/DARIENZO_LEONARDO_Python_dizionari.ipynb\" target=\"_parent\"><img src=\"https://colab.research.google.com/assets/colab-badge.svg\" alt=\"Open In Colab\"/></a>"
      ]
    },
    {
      "cell_type": "code",
      "source": [
        "dizionarioITEN = {'uno': 'one', 'due': 'two', 'tre': 'three', 'quattro': 'four'}\n",
        "dizionarioITEN"
      ],
      "metadata": {
        "colab": {
          "base_uri": "https://localhost:8080/"
        },
        "id": "87BikGKrh_3J",
        "outputId": "713768b0-2788-4b9f-b15a-26b98c2a2ddf"
      },
      "execution_count": null,
      "outputs": [
        {
          "output_type": "execute_result",
          "data": {
            "text/plain": [
              "{'uno': 'one', 'due': 'two', 'tre': 'three', 'quattro': 'four'}"
            ]
          },
          "metadata": {},
          "execution_count": 2
        }
      ]
    },
    {
      "cell_type": "code",
      "source": [
        "dizionarioITEN = dict(uno = 'one', due = 'two', tre = 'three', quattro = 'four')\n",
        "dizionarioITEN"
      ],
      "metadata": {
        "colab": {
          "base_uri": "https://localhost:8080/"
        },
        "id": "KCVnF4VShfdQ",
        "outputId": "69125697-d609-4738-ff81-4dc6e533984c"
      },
      "execution_count": null,
      "outputs": [
        {
          "output_type": "execute_result",
          "data": {
            "text/plain": [
              "{'uno': 'one', 'due': 'two', 'tre': 'three', 'quattro': 'four'}"
            ]
          },
          "metadata": {},
          "execution_count": 3
        }
      ]
    },
    {
      "cell_type": "code",
      "source": [
        "dizionarioITEN = dict([('uno', 'one'), ('due', 'two'), ('tre', 'three'), ('quattro', 'four')])\n",
        "dizionarioITEN"
      ],
      "metadata": {
        "colab": {
          "base_uri": "https://localhost:8080/"
        },
        "id": "t2WjPDoDiKrb",
        "outputId": "2723396d-6cc0-425e-b94d-0e8a21d761f9"
      },
      "execution_count": null,
      "outputs": [
        {
          "output_type": "execute_result",
          "data": {
            "text/plain": [
              "{'uno': 'one', 'due': 'two', 'tre': 'three', 'quattro': 'four'}"
            ]
          },
          "metadata": {},
          "execution_count": 4
        }
      ]
    },
    {
      "cell_type": "code",
      "source": [
        "numeriItaliani = ['uno', 'due', 'tre', 'quattro']#ci metti troppo con questo metodo(3)"
      ],
      "metadata": {
        "id": "M2FygeFxdPkW"
      },
      "execution_count": null,
      "outputs": []
    },
    {
      "cell_type": "code",
      "source": [
        "englishNumbers = ['one', 'two', 'three', 'four']#ci metti troppo con questo metodo(3)"
      ],
      "metadata": {
        "id": "rP_0WP6-dYv2"
      },
      "execution_count": null,
      "outputs": []
    },
    {
      "cell_type": "code",
      "source": [
        "dizionarioITEN = dict((numeroItaliano, englishNumber) for numeroItaliano, englishNumber in zip(numeriItaliani, englishNumbers))\n",
        "dizionarioITEN\n",
        "#ci metti troppo con questo metodo(3)"
      ],
      "metadata": {
        "colab": {
          "base_uri": "https://localhost:8080/"
        },
        "id": "YD2XVuoEdgsg",
        "outputId": "7fa22e26-a572-4b4a-fdae-71ad0511fc8a"
      },
      "execution_count": null,
      "outputs": [
        {
          "output_type": "execute_result",
          "data": {
            "text/plain": [
              "{'uno': 'one', 'due': 'two', 'tre': 'three', 'quattro': 'four'}"
            ]
          },
          "metadata": {},
          "execution_count": 7
        }
      ]
    },
    {
      "cell_type": "code",
      "source": [
        "len(dizionarioITEN)"
      ],
      "metadata": {
        "colab": {
          "base_uri": "https://localhost:8080/"
        },
        "id": "T8XFfup8gwut",
        "outputId": "e98cee19-d66c-4525-ded2-28d41846993c"
      },
      "execution_count": null,
      "outputs": [
        {
          "output_type": "execute_result",
          "data": {
            "text/plain": [
              "4"
            ]
          },
          "metadata": {},
          "execution_count": 8
        }
      ]
    },
    {
      "cell_type": "code",
      "source": [
        "dizionarioITEN['cinque'] = 'five'\n",
        "dizionarioITEN"
      ],
      "metadata": {
        "colab": {
          "base_uri": "https://localhost:8080/"
        },
        "id": "S4hCQZrseBBU",
        "outputId": "10925be8-4dca-4a22-9f75-233322d719a2"
      },
      "execution_count": null,
      "outputs": [
        {
          "output_type": "execute_result",
          "data": {
            "text/plain": [
              "{'uno': 'one',\n",
              " 'due': 'two',\n",
              " 'tre': 'three',\n",
              " 'quattro': 'four',\n",
              " 'cinque': 'five'}"
            ]
          },
          "metadata": {},
          "execution_count": 9
        }
      ]
    },
    {
      "cell_type": "code",
      "source": [
        "dizionarioITEN['due']#restituisce il valore della chiave 2"
      ],
      "metadata": {
        "colab": {
          "base_uri": "https://localhost:8080/",
          "height": 35
        },
        "id": "RHIH5t1WeMS7",
        "outputId": "e804161d-8f28-4431-d893-9f631a8a7cce"
      },
      "execution_count": null,
      "outputs": [
        {
          "output_type": "execute_result",
          "data": {
            "text/plain": [
              "'two'"
            ],
            "application/vnd.google.colaboratory.intrinsic+json": {
              "type": "string"
            }
          },
          "metadata": {},
          "execution_count": 10
        }
      ]
    },
    {
      "cell_type": "code",
      "source": [
        "dizionarioITEN['dues']#mi da questo errore dato che non c'è la chiave \"dues\""
      ],
      "metadata": {
        "id": "arVcDDIbeTZ7"
      },
      "execution_count": null,
      "outputs": []
    },
    {
      "cell_type": "code",
      "source": [
        "if 'dues' in dizionarioITEN.keys():\n",
        "  print(dizionarioITEN['dues'])\n",
        "else:\n",
        "  print('chiave non presente')\n",
        "#se dues è presente mi fa vedere la chiave ma dato che non c'è, ci dice la \"chiave non è presente\""
      ],
      "metadata": {
        "colab": {
          "base_uri": "https://localhost:8080/"
        },
        "id": "Dtv3BR8Mei31",
        "outputId": "795869dd-ec64-468f-f7e4-ad50a02db450"
      },
      "execution_count": null,
      "outputs": [
        {
          "output_type": "stream",
          "name": "stdout",
          "text": [
            "chiave non presente\n"
          ]
        }
      ]
    },
    {
      "cell_type": "code",
      "source": [
        "if 'dues' in dizionarioITEN:\n",
        "  print(dizionarioITEN['dues'])\n",
        "else:\n",
        "  print('chiave non presente')\n",
        "  #stessa cosa ma senza keys(dall'esercizio sopra)"
      ],
      "metadata": {
        "colab": {
          "base_uri": "https://localhost:8080/"
        },
        "id": "BTHNollLf8jD",
        "outputId": "c90e1590-08bd-40d4-985e-65f79053fe89"
      },
      "execution_count": null,
      "outputs": [
        {
          "output_type": "stream",
          "name": "stdout",
          "text": [
            "chiave non presente\n"
          ]
        }
      ]
    },
    {
      "cell_type": "code",
      "source": [
        "dizionarioITEN.get('due', 'chiave non presente')#altro metodo per l'esercizio,va a prendere la chiave se la chiave non c'è mi da il messaggio \"chiave non presente\""
      ],
      "metadata": {
        "colab": {
          "base_uri": "https://localhost:8080/",
          "height": 35
        },
        "id": "QwYcz9Mqi8GV",
        "outputId": "e84a6c14-9aa4-4553-b7f2-f002471dac77"
      },
      "execution_count": null,
      "outputs": [
        {
          "output_type": "execute_result",
          "data": {
            "text/plain": [
              "'two'"
            ],
            "application/vnd.google.colaboratory.intrinsic+json": {
              "type": "string"
            }
          },
          "metadata": {},
          "execution_count": 15
        }
      ]
    },
    {
      "cell_type": "code",
      "source": [
        "dizionarioITEN.setdefault('sette', 'seven')#nel caso in cui la chiave c'è me la restituisce, se non c'è la inserisce"
      ],
      "metadata": {
        "id": "XpbsodFTjiq1"
      },
      "execution_count": null,
      "outputs": []
    },
    {
      "cell_type": "code",
      "source": [
        "dizionarioITEN"
      ],
      "metadata": {
        "id": "tyO5JZ5_DOVw"
      },
      "execution_count": null,
      "outputs": []
    },
    {
      "cell_type": "code",
      "source": [
        "if 'two' in dizionarioITEN.values():\n",
        "  print('valore presente')\n",
        "else:\n",
        "  print('valore non presente')\n",
        "#questa volta ho cercato \"two\" nelle chiave non nei valori"
      ],
      "metadata": {
        "colab": {
          "base_uri": "https://localhost:8080/"
        },
        "id": "W3mMv40Nebqk",
        "outputId": "0c2df634-00e9-4384-aee4-a6a3ff5afdf2"
      },
      "execution_count": null,
      "outputs": [
        {
          "output_type": "stream",
          "name": "stdout",
          "text": [
            "valore presente\n"
          ]
        }
      ]
    },
    {
      "cell_type": "code",
      "source": [
        "for number in dizionarioITEN.values():\n",
        "  print(number)\n",
        "#visualizza i valori corrispondenti alle chiavi"
      ],
      "metadata": {
        "id": "V7hk9LhFff15"
      },
      "execution_count": null,
      "outputs": []
    },
    {
      "cell_type": "code",
      "source": [
        "for number in dizionarioITEN:\n",
        "  print(number)"
      ],
      "metadata": {
        "id": "gwz5fZINEAe4"
      },
      "execution_count": null,
      "outputs": []
    },
    {
      "cell_type": "code",
      "source": [
        "for numero, number in dizionarioITEN.items():\n",
        "  print(numero, '-', number)\n",
        "#items prende la coppia di chiave e valore "
      ],
      "metadata": {
        "id": "PduutaFzfpVE"
      },
      "execution_count": null,
      "outputs": []
    },
    {
      "cell_type": "code",
      "source": [
        "for numero in dizionarioITEN:\n",
        "  print(numero, '-', dizionarioITEN[numero])"
      ],
      "metadata": {
        "id": "jJ9JxcqZgN4V"
      },
      "execution_count": null,
      "outputs": []
    },
    {
      "cell_type": "code",
      "source": [
        "studenti3E=[{\"nome\":\"Leonardo\",\"città\":\"Sesto San Giovanni\"},{\"nome\":\"Filippo\",\"città\":\"Milano\"},{\"nome\":\"Andrea\",\"città\":\"Milano\"}]\n",
        "print(studenti3E)"
      ],
      "metadata": {
        "colab": {
          "base_uri": "https://localhost:8080/"
        },
        "id": "hZmB9hF6EnPn",
        "outputId": "1f9bc558-dc92-48fb-aa95-0803c23ad583"
      },
      "execution_count": null,
      "outputs": [
        {
          "output_type": "stream",
          "name": "stdout",
          "text": [
            "[{'nome': 'Leonardo', 'città': 'Sesto San Giovanni'}, {'nome': 'Filippo', 'città': 'Milano'}, {'nome': 'Andrea', 'città': 'Milano'}]\n"
          ]
        }
      ]
    },
    {
      "cell_type": "code",
      "source": [
        "len(studenti3E)"
      ],
      "metadata": {
        "colab": {
          "base_uri": "https://localhost:8080/"
        },
        "id": "Ef3YidXFFqwo",
        "outputId": "b10b6381-7da0-453d-d43f-6f76ee3eefc1"
      },
      "execution_count": null,
      "outputs": [
        {
          "output_type": "execute_result",
          "data": {
            "text/plain": [
              "3"
            ]
          },
          "metadata": {},
          "execution_count": 33
        }
      ]
    },
    {
      "cell_type": "code",
      "source": [
        "for studente in studenti3E:\n",
        "  print(studente)"
      ],
      "metadata": {
        "colab": {
          "base_uri": "https://localhost:8080/"
        },
        "id": "ZA9Sxdh7JbAs",
        "outputId": "d9a78acd-714a-4ab0-9d41-012f58c8b9e1"
      },
      "execution_count": null,
      "outputs": [
        {
          "output_type": "stream",
          "name": "stdout",
          "text": [
            "{'nome': 'Leonardo', 'città': 'Sesto San Giovanni'}\n",
            "{'nome': 'Filippo', 'città': 'Milano'}\n",
            "{'nome': 'Andrea', 'città': 'Milano'}\n"
          ]
        }
      ]
    },
    {
      "cell_type": "code",
      "source": [
        "for studente in studenti3E:\n",
        "  print(studente[\"nome\"])"
      ],
      "metadata": {
        "colab": {
          "base_uri": "https://localhost:8080/"
        },
        "id": "N8OWs2RpJ3Ti",
        "outputId": "77d329ff-d1d8-4c52-a8c3-50fd8999d709"
      },
      "execution_count": null,
      "outputs": [
        {
          "output_type": "stream",
          "name": "stdout",
          "text": [
            "Leonardo\n",
            "Filippo\n",
            "Andrea\n"
          ]
        }
      ]
    },
    {
      "cell_type": "code",
      "source": [
        " studenti3Ebis=[{\"generalità\":{\"nome\":\"Leonardo\",\"cognome\":\"D'Arienzo\"},\"città\":\"Sesto San Giovanni\"},{\"generalità\":{\"nome\":\"Filippo\",\"cognome\":\"Neri\"},\"città\":\"Milano\"},{\"generalità\":{\"nome\":\"Andrea\",\"cognome\":\"Leone\"},\"città\":\"Milano\"}]\n",
        "print(studenti3Ebis)"
      ],
      "metadata": {
        "colab": {
          "base_uri": "https://localhost:8080/"
        },
        "id": "IDJ41M71KQJq",
        "outputId": "80683bfc-d85f-4807-ced5-9faddf45ddaa"
      },
      "execution_count": null,
      "outputs": [
        {
          "output_type": "stream",
          "name": "stdout",
          "text": [
            "[{'generalità': {'nome': 'Leonardo', 'cognome': \"D'Arienzo\"}, 'città': 'Sesto San Giovanni'}, {'generalità': {'nome': 'Filippo', 'cognome': 'Neri'}, 'città': 'Milano'}, {'generalità': {'nome': 'Andrea', 'cognome': 'Leone'}, 'città': 'Milano'}]\n"
          ]
        }
      ]
    },
    {
      "cell_type": "code",
      "source": [
        "len(studenti3Ebis)"
      ],
      "metadata": {
        "colab": {
          "base_uri": "https://localhost:8080/"
        },
        "id": "0iInGfmRLIMH",
        "outputId": "c467c61b-9563-4de1-a4e7-cac4bc3d3900"
      },
      "execution_count": null,
      "outputs": [
        {
          "output_type": "execute_result",
          "data": {
            "text/plain": [
              "3"
            ]
          },
          "metadata": {},
          "execution_count": 37
        }
      ]
    },
    {
      "cell_type": "code",
      "source": [
        "for studente in studenti3Ebis:\n",
        "  print(studente)"
      ],
      "metadata": {
        "id": "RinY3OOKLUx1"
      },
      "execution_count": null,
      "outputs": []
    },
    {
      "cell_type": "code",
      "source": [
        "for studente in studenti3Ebis:\n",
        "  print(studente[\"generalità\"])"
      ],
      "metadata": {
        "colab": {
          "base_uri": "https://localhost:8080/"
        },
        "id": "Xyz8Rzs6LaU1",
        "outputId": "e737e24d-058c-47ac-d032-015547a7e634"
      },
      "execution_count": null,
      "outputs": [
        {
          "output_type": "stream",
          "name": "stdout",
          "text": [
            "{'nome': 'Leonardo', 'cognome': \"D'Arienzo\"}\n",
            "{'nome': 'Filippo', 'cognome': 'Neri'}\n",
            "{'nome': 'Andrea', 'cognome': 'Leone'}\n"
          ]
        }
      ]
    },
    {
      "cell_type": "code",
      "source": [
        "#se volessi visualizzare solo il nome\n",
        "for studente in studenti3Ebis:\n",
        "  print(studente[\"generalità\"][\"nome\"])"
      ],
      "metadata": {
        "id": "MP51XctGLjwH"
      },
      "execution_count": null,
      "outputs": []
    },
    {
      "cell_type": "code",
      "source": [
        "#il nome del secondo studente\n",
        "studenti3Ebis[1][\"generalità\"][\"nome\"]"
      ],
      "metadata": {
        "colab": {
          "base_uri": "https://localhost:8080/",
          "height": 35
        },
        "id": "YSHeZxq4LvtW",
        "outputId": "ef453adc-b244-492c-cb3a-e72decd85ced"
      },
      "execution_count": null,
      "outputs": [
        {
          "output_type": "execute_result",
          "data": {
            "text/plain": [
              "'Filippo'"
            ],
            "application/vnd.google.colaboratory.intrinsic+json": {
              "type": "string"
            }
          },
          "metadata": {},
          "execution_count": 44
        }
      ]
    },
    {
      "cell_type": "code",
      "source": [
        "studenti3Etris=[{\"generalità\":{\"nome\":\"Leonardo\",\"cognome\":\"D'Arienzo\"},\"città\":\"Sesto San Giovanni\",\"telefono\":[\"46752849845\",\"23528552823\"]},{\"generalità\":{\"nome\":\"Filippo\",\"cognome\":\"Neri\"},\"città\":\"Milano\",\"telefono\":[\"256752849845\",\"03528552823\"]},{\"generalità\":{\"nome\":\"Andrea\",\"cognome\":\"Leone\"},\"città\":\"Milano\",\"telefono\":[\"32675849845\",\"93528552823\"]}]\n",
        "studenti3Etris"
      ],
      "metadata": {
        "id": "13c3gM9WMnBp"
      },
      "execution_count": null,
      "outputs": []
    },
    {
      "cell_type": "code",
      "source": [
        "studenti3Etris[1][\"telefono\"][0]"
      ],
      "metadata": {
        "id": "8dhO4jw5NeoI"
      },
      "execution_count": null,
      "outputs": []
    }
  ]
}