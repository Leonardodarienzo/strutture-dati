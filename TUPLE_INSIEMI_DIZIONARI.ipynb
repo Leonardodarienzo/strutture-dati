{
  "nbformat": 4,
  "nbformat_minor": 0,
  "metadata": {
    "colab": {
      "provenance": [],
      "authorship_tag": "ABX9TyOWLUkz+LSjICS0N5lY1+G9",
      "include_colab_link": true
    },
    "kernelspec": {
      "name": "python3",
      "display_name": "Python 3"
    },
    "language_info": {
      "name": "python"
    }
  },
  "cells": [
    {
      "cell_type": "markdown",
      "metadata": {
        "id": "view-in-github",
        "colab_type": "text"
      },
      "source": [
        "<a href=\"https://colab.research.google.com/github/Leonardodarienzo/strutture-dati/blob/main/TUPLE_INSIEMI_DIZIONARI.ipynb\" target=\"_parent\"><img src=\"https://colab.research.google.com/assets/colab-badge.svg\" alt=\"Open In Colab\"/></a>"
      ]
    },
    {
      "cell_type": "markdown",
      "source": [
        "**TUPLE**\n",
        "\n"
      ],
      "metadata": {
        "id": "DUiPOjMQzmfv"
      }
    },
    {
      "cell_type": "markdown",
      "source": [
        "Una tupla è una struttura dati ordinata e non modificabile.\n",
        "Si forma con le parentesi tonde"
      ],
      "metadata": {
        "id": "O62UuBCTxxYo"
      }
    },
    {
      "cell_type": "code",
      "execution_count": null,
      "metadata": {
        "colab": {
          "base_uri": "https://localhost:8080/"
        },
        "id": "PkOVOL3MxEuj",
        "outputId": "d4043b8f-00fd-4b57-c9e4-2958fff14384"
      },
      "outputs": [
        {
          "output_type": "stream",
          "name": "stdout",
          "text": [
            "(1, 2, 3, 4, 5)\n"
          ]
        }
      ],
      "source": [
        "tupla1=(1,2,3,4,5)\n",
        "print(tupla1)"
      ]
    },
    {
      "cell_type": "markdown",
      "source": [
        "Gli elementi tuple sono ordinati, non modificabili e consentono valori duplicati. \n",
        "Sono indecizzate infatti il primo elemento della tuple ha valore di index \"0\""
      ],
      "metadata": {
        "id": "_HeCv-unx5De"
      }
    },
    {
      "cell_type": "markdown",
      "source": [
        "Le tuple non sono modificabili, il che significa che non possiamo modificare, aggiungere o rimuovere elementi dopo che la tupla è stata creata."
      ],
      "metadata": {
        "id": "4zIuPjKzx-OW"
      }
    },
    {
      "cell_type": "markdown",
      "source": [
        "quindi se ci serisse un vettore non modificabile non useremmo list ma una tupla"
      ],
      "metadata": {
        "id": "w8nI517lx_Jn"
      }
    },
    {
      "cell_type": "code",
      "source": [
        "tupla1.append(1) #non funziona perché non e modificabile"
      ],
      "metadata": {
        "id": "Txb90iaMx5vO"
      },
      "execution_count": null,
      "outputs": []
    },
    {
      "cell_type": "markdown",
      "source": [
        "Per creare una tupla con un solo elemento, devi aggiungere una virgola dopo l'elemento"
      ],
      "metadata": {
        "id": "pwswI-nRx5-O"
      }
    },
    {
      "cell_type": "code",
      "source": [
        "tupla2=(\"prova\",)\n",
        "print(type(tupla2))\n",
        "print(tupla2)\n",
        "tupla2=(\"prova\")\n",
        "print(type(tupla2))\n"
      ],
      "metadata": {
        "id": "Kj6_5rV5x6YO"
      },
      "execution_count": null,
      "outputs": []
    },
    {
      "cell_type": "markdown",
      "source": [
        "puo cotenere tutti i tipi di dati, pure tutti insieme in ua sola tuple"
      ],
      "metadata": {
        "id": "N9sJOTh-yY1_"
      }
    },
    {
      "cell_type": "code",
      "source": [
        "tupla3=(\"ciao\", 1, True,2,\"hello\")\n",
        "print(tupla3)"
      ],
      "metadata": {
        "id": "QgU0-R8byeF3"
      },
      "execution_count": null,
      "outputs": []
    },
    {
      "cell_type": "markdown",
      "source": [
        "si puo usare anche la funzione \"tuple()\" per crearne una "
      ],
      "metadata": {
        "id": "QjAhUfFJygmf"
      }
    },
    {
      "cell_type": "code",
      "source": [
        "pluto = [1, 0 ,2]\n",
        "prova=tuple(pluto)\n",
        "print(prova)\n",
        "print(pluto)\n",
        "pluto.extend([2])\n",
        "print(pluto)\n",
        "print(prova)"
      ],
      "metadata": {
        "id": "mj991lIryjOn"
      },
      "execution_count": null,
      "outputs": []
    },
    {
      "cell_type": "markdown",
      "source": [
        "**Esercizio**\n",
        "generare 20 numeri casuali non uguali che varino da 1 a 100, poi inserirli in una struttura dati adeguata che non sia modificabile."
      ],
      "metadata": {
        "id": "8koKfgbYyouW"
      }
    },
    {
      "cell_type": "code",
      "source": [
        "import random \n",
        "lista0 = random.sample(range(1,100),20) \n",
        "print(lista0)"
      ],
      "metadata": {
        "id": "JRG7VxtKy2zX"
      },
      "execution_count": null,
      "outputs": []
    },
    {
      "cell_type": "markdown",
      "source": [
        "aggiungere i primi 3 cognomi della classe in posizioe 1 all precedente vettore"
      ],
      "metadata": {
        "id": "FLgaU4pPzAW-"
      }
    },
    {
      "cell_type": "code",
      "source": [],
      "metadata": {
        "id": "sXcYqApvzDFm"
      },
      "execution_count": null,
      "outputs": []
    },
    {
      "cell_type": "markdown",
      "source": [
        "**INSIEMI**"
      ],
      "metadata": {
        "id": "zT12FISvz2dz"
      }
    },
    {
      "cell_type": "markdown",
      "source": [
        "Gli insiemi sono un tipo di struttura dati di pyhton. \n",
        "Gli insiemi vengono utilizzati per memorizzare più elementi in una singola variabile.\n",
        "\n",
        "\n",
        "\n"
      ],
      "metadata": {
        "id": "pMQEYaOtz7R2"
      }
    },
    {
      "cell_type": "markdown",
      "source": [
        "Gli insiemi non sono ordinati, cioè che gli elementi presenti in essi non hanno un ordine definito."
      ],
      "metadata": {
        "id": "GX334MZc2ku2"
      }
    },
    {
      "cell_type": "markdown",
      "source": [
        "Gli articoli del set non sono modificabili, il che significa che non possiamo modificare gli articoli dopo che il set è stato creato.\n",
        "Non si possono inserire duplicati in un insieme."
      ],
      "metadata": {
        "id": "lLVpzd4V2oeu"
      }
    },
    {
      "cell_type": "code",
      "source": [
        "insieme = {\"inter\", \"milan\", \"juventus\"}\n",
        "print(insieme)"
      ],
      "metadata": {
        "id": "jtG99An40Nbw"
      },
      "execution_count": null,
      "outputs": []
    },
    {
      "cell_type": "code",
      "source": [
        "#altro metodo per creare un insieme\n",
        "insieme2 = set([\"luca\",\"antonio\" ,\"riccardo\" ,\"valerio\"])\n",
        "print(insieme2) "
      ],
      "metadata": {
        "id": "e87t0On11Ylm"
      },
      "execution_count": null,
      "outputs": []
    },
    {
      "cell_type": "markdown",
      "source": [
        "trovare la lunghezza di un insieme"
      ],
      "metadata": {
        "id": "YLFW9V6U2fOH"
      }
    },
    {
      "cell_type": "code",
      "source": [
        "len(insieme)"
      ],
      "metadata": {
        "id": "DBM8SVT-17NW"
      },
      "execution_count": null,
      "outputs": []
    },
    {
      "cell_type": "markdown",
      "source": [
        "creare un insieme con numeri interi"
      ],
      "metadata": {
        "id": "yR78wOO73BVO"
      }
    },
    {
      "cell_type": "code",
      "source": [
        "insiemenumerico = {1, 2, 3, 4, 5}\n",
        "prova={i for i in range(10)}\n",
        "print(prova)\n",
        "print(insiemenumerico)"
      ],
      "metadata": {
        "id": "2HxieqbY3Bnu"
      },
      "execution_count": null,
      "outputs": []
    },
    {
      "cell_type": "markdown",
      "source": [
        "creare un insieme misto"
      ],
      "metadata": {
        "id": "2DgceRo-3J9P"
      }
    },
    {
      "cell_type": "code",
      "source": [
        "#gli elementi booleani sono inserbili solo se non sono presenti 1 (true) o 0 (false), dato che non ci possono essere duplicati in un insieme\n",
        "insiememisto = {2, \"luca\", \"marco\", 45, True}\n",
        "print(insiememisto)"
      ],
      "metadata": {
        "id": "lZc3TTch3Jp2"
      },
      "execution_count": null,
      "outputs": []
    },
    {
      "cell_type": "code",
      "source": [
        "insieme3 = {1, 2, 56, 1} #dentro questo insieme viene inserito solo un 1, dato che negli insiemi non possono essere inseriti duplicati\n",
        "print(insieme3)"
      ],
      "metadata": {
        "id": "vSU22RVw3M-l"
      },
      "execution_count": null,
      "outputs": []
    },
    {
      "cell_type": "markdown",
      "source": [
        "accedere agli elementi di un insieme"
      ],
      "metadata": {
        "id": "9lRol1-E3SWf"
      }
    },
    {
      "cell_type": "code",
      "source": [
        "insieme4 = {\"playstation\", \"xbox\", \"computer\"}\n",
        "for elemento in insieme4:\n",
        "  print(elemento)\n",
        "#non è possibile accedere agli elementi di un insieme usando indici"
      ],
      "metadata": {
        "id": "r2DKeZwQ3UcF"
      },
      "execution_count": null,
      "outputs": []
    },
    {
      "cell_type": "markdown",
      "source": [
        "capire se un elemento è presente in un insieme"
      ],
      "metadata": {
        "id": "P3LWJhc03Y99"
      }
    },
    {
      "cell_type": "code",
      "source": [
        "\"xbox\" in insieme4"
      ],
      "metadata": {
        "id": "w81UHVRo3Zq1"
      },
      "execution_count": null,
      "outputs": []
    },
    {
      "cell_type": "markdown",
      "source": [
        "aggiungere elementi"
      ],
      "metadata": {
        "id": "ZprLYFdx3fKe"
      }
    },
    {
      "cell_type": "code",
      "source": [
        "insieme5 = {\"ciao\", 56, True}\n",
        "print(insieme5)\n",
        "insieme5.add(\"francesco\")\n",
        "print(insieme5)"
      ],
      "metadata": {
        "id": "ojymhjQ13f0W"
      },
      "execution_count": null,
      "outputs": []
    },
    {
      "cell_type": "markdown",
      "source": [
        "Per aggiungere elementi da un altro insieme nell'insieme in uso, utilizzare il update() metodo."
      ],
      "metadata": {
        "id": "MhCP4AyU3rE-"
      }
    },
    {
      "cell_type": "code",
      "source": [
        "insieme6 = {\"giorgia\", 78, 7}\n",
        "insieme7 = {\"poli\", \"loto\", \"simo\",7}\n",
        "insieme6.update(insieme7)\n",
        "print(insieme6)"
      ],
      "metadata": {
        "id": "nbzeXzj33r6_"
      },
      "execution_count": null,
      "outputs": []
    },
    {
      "cell_type": "markdown",
      "source": [
        "rimuovere elementi"
      ],
      "metadata": {
        "id": "8CrDNM1X3yGG"
      }
    },
    {
      "cell_type": "code",
      "source": [
        "insieme8 = {\"pippo\", \"pluto\", \"paperino\", \"topolino\", \"ronaldo\", 45}\n",
        "print(insieme8)\n",
        "insieme8.remove(\"pippo\")\n",
        "print(insieme8)"
      ],
      "metadata": {
        "id": "ZKlgj08e30Bl"
      },
      "execution_count": null,
      "outputs": []
    },
    {
      "cell_type": "code",
      "source": [
        "#rimuovere un elemento usando discard()\n",
        "insieme8.discard(\"pippo\")\n",
        "print(insieme8)"
      ],
      "metadata": {
        "id": "g8Djo6_s372O"
      },
      "execution_count": null,
      "outputs": []
    },
    {
      "cell_type": "code",
      "source": [
        "#rimuovere un elemento usando pop()\n",
        "#questo metodo elimina un elemento a caso dell'insieme dato che non si può inserire un indice all'interno del metodo\n",
        "x = insieme8.pop()\n",
        "print(x)\n",
        "print(insieme8)"
      ],
      "metadata": {
        "id": "ZH5huPEa4Abv"
      },
      "execution_count": null,
      "outputs": []
    },
    {
      "cell_type": "markdown",
      "source": [
        "svuotare completamente un insieme"
      ],
      "metadata": {
        "id": "YcJSSjlX4MeG"
      }
    },
    {
      "cell_type": "code",
      "source": [
        "insieme8.clear()\n",
        "print(insieme8)"
      ],
      "metadata": {
        "id": "sz279CXT4PZ-"
      },
      "execution_count": null,
      "outputs": []
    },
    {
      "cell_type": "code",
      "source": [
        "#altro metodo\n",
        "del insieme8"
      ],
      "metadata": {
        "id": "UKmF7eyv4Rp2"
      },
      "execution_count": null,
      "outputs": []
    },
    {
      "cell_type": "markdown",
      "source": [
        "unire gli insiemi"
      ],
      "metadata": {
        "id": "fcJFOeGD5Ayg"
      }
    },
    {
      "cell_type": "code",
      "source": [
        "#metodo union\n",
        "set1 = {1, 2, 3, 4, 5, 6,14}\n",
        "set2 = {10, 20, 30, 40}\n",
        "set4={12,13,14,15}\n",
        "set3 = set1.union(set2,set4)\n",
        "print(set3)"
      ],
      "metadata": {
        "id": "PkEJEgNd5Dio"
      },
      "execution_count": null,
      "outputs": []
    },
    {
      "cell_type": "code",
      "source": [
        "#metodo update\n",
        "set4 = {\"vittoria\", \"carlotta\", \"alice\"}\n",
        "set5 = {100, 200, 300}\n",
        "set4.update(set5)  #il metodo update aggiunge gli elementi di un insieme in un altro insieme\n",
        "print(set4)"
      ],
      "metadata": {
        "id": "VDLYcvHE5KEW"
      },
      "execution_count": null,
      "outputs": []
    },
    {
      "cell_type": "markdown",
      "source": [
        "#sia il metodo union e update escludono i duplicati"
      ],
      "metadata": {
        "id": "UH0sPSSJ5NCe"
      }
    },
    {
      "cell_type": "markdown",
      "source": [
        "salvare solo i valori duplicati in due insiemi"
      ],
      "metadata": {
        "id": "XslhN9jQ5Qe9"
      }
    },
    {
      "cell_type": "code",
      "source": [
        "#intersection_update: salva in un insieme gli elementi duplicati che ci sono in entrambi gli insiemi (rimuove gli elementi che non presenti in altri insiemi)\n",
        "set6 = {\"ciao\", \"buongiorno\", \"buonasera\", \"arrivederci\"}\n",
        "set7 = {\"arrivederci\", \"buonasera\", 6, 80}\n",
        "set6.intersection_update(set7)\n",
        "print(set6)"
      ],
      "metadata": {
        "id": "LhWHNs7V5Rbd"
      },
      "execution_count": null,
      "outputs": []
    },
    {
      "cell_type": "code",
      "source": [
        "#intersection: crea e salva in un altro insieme gli elementi uguali in entrambi gli insiemi\n",
        "set8 = set6.intersection(set7)\n",
        "print(set8)"
      ],
      "metadata": {
        "id": "_6WCboTh5VMV"
      },
      "execution_count": null,
      "outputs": []
    },
    {
      "cell_type": "markdown",
      "source": [
        "salvare i valori non duplicati in due insiemi"
      ],
      "metadata": {
        "id": "9x0KwqG25ZOF"
      }
    },
    {
      "cell_type": "code",
      "source": [
        "#symmetric_difference_update: salva in un insieme gli elementi non duplicati che ci sono in entrambi gli insiemi (inserisce gli elementi diversi da questo insieme e un altro ed elimina quelli comuni)\n",
        "set9 = {\"inter\", \"milan\", \"roma\", \"napoli\"}\n",
        "set10 = {\"inter\", \"roma\", 87, 123}\n",
        "set9.symmetric_difference_update(set10)\n",
        "print(set9)"
      ],
      "metadata": {
        "id": "ME_LLKnQ5aOe"
      },
      "execution_count": null,
      "outputs": []
    },
    {
      "cell_type": "code",
      "source": [
        "#symmetric_difference: crea e salva in un altro insieme gli elementi non duplicati che sono presenti in due insiemi\n",
        "set9 = {\"inter\", \"milan\", \"roma\", \"napoli\"}\n",
        "set10 = {\"inter\", \"roma\", 87, 123}\n",
        "set11 = set9.symmetric_difference(set10)\n",
        "print(set11)"
      ],
      "metadata": {
        "id": "Wg0dlUC55dpd"
      },
      "execution_count": null,
      "outputs": []
    },
    {
      "cell_type": "markdown",
      "source": [
        "**differenze tra gli insiemi e le**"
      ],
      "metadata": {
        "id": "3fjtaKGd5kFq"
      }
    },
    {
      "cell_type": "markdown",
      "source": [
        "Nelle liste si possono inserire degli elementi uguali, mentre negli insiemi no."
      ],
      "metadata": {
        "id": "Lux9VZJ35kDe"
      }
    },
    {
      "cell_type": "markdown",
      "source": [
        "Nelle liste si possono mostrare gli elementi di esse attraverso un'indice; questo non si può fare negli insiemi dato che gli elementi in un insieme sono disposti in maniera indefinita e non precisa."
      ],
      "metadata": {
        "id": "Cxj1xog45kAe"
      }
    },
    {
      "cell_type": "markdown",
      "source": [
        "Nelle liste si possono aggiungere elementi tramite i metodi: append, extend e insert, mentre negli insiemi si usa il metodi add, update e union."
      ],
      "metadata": {
        "id": "0vRaN2dl5j8B"
      }
    },
    {
      "cell_type": "markdown",
      "source": [
        "I metodi pop e del, dove è necessario specificare l'indice dell'elemento che si vuole eliminare, negli insiemi hanno le corrispondenti funzioni: pop elimina un elemento a caso dell'insieme, mentre del elimina tutti gli elementi dell'insieme."
      ],
      "metadata": {
        "id": "co0ou2Ko5j3_"
      }
    },
    {
      "cell_type": "markdown",
      "source": [
        "**differenze tre gli insiemi e i tuples**"
      ],
      "metadata": {
        "id": "WdVVR3BQ5jqB"
      }
    },
    {
      "cell_type": "markdown",
      "source": [
        "Gli elementi dei tuples hanno un ordine preciso, quelli degli insiemi no."
      ],
      "metadata": {
        "id": "3fl4jUoH5jne"
      }
    },
    {
      "cell_type": "markdown",
      "source": [
        "Gli elementi dei tuples hanno un'indice, quelli degli insiemi no."
      ],
      "metadata": {
        "id": "_3Ip-eGn53Qu"
      }
    },
    {
      "cell_type": "markdown",
      "source": [],
      "metadata": {
        "id": "mu9xpsgl53xQ"
      }
    },
    {
      "cell_type": "markdown",
      "source": [
        "Nei tuples ci possono essere elementi uguali, negli insiemi no."
      ],
      "metadata": {
        "id": "kcaUSii253D9"
      }
    },
    {
      "cell_type": "markdown",
      "source": [
        "Dopo aver creato un tuple non ci si possono aggiungere elementi, mentre negli insiemi si."
      ],
      "metadata": {
        "id": "AbJFUSnw53BG"
      }
    },
    {
      "cell_type": "markdown",
      "source": [
        "**#esercizi**"
      ],
      "metadata": {
        "id": "fGMstq516BpW"
      }
    },
    {
      "cell_type": "markdown",
      "source": [
        "inserire in una struttura dati adeguata gli elementi: 1, 4, 5, 6, 7, 10, 1, 4"
      ],
      "metadata": {
        "id": "L7PSEDIA6GYe"
      }
    },
    {
      "cell_type": "code",
      "source": [
        "#occhio ai duplicati\n",
        "insieme9=[1, 4, 5, 6, 7, 10, 1, 4]\n",
        "print(insieme9)"
      ],
      "metadata": {
        "id": "SPYSHOnI6FX-"
      },
      "execution_count": null,
      "outputs": []
    },
    {
      "cell_type": "markdown",
      "source": [
        "creare un insieme che contenga: pizza, pasta, carne, pesce"
      ],
      "metadata": {
        "id": "CrwdeRKW6NQm"
      }
    },
    {
      "cell_type": "code",
      "source": [
        "insieme10={\"pizza\",\"pasta\",\"carne\",\"pesce\"}"
      ],
      "metadata": {
        "id": "2Xi52pXk6MjN"
      },
      "execution_count": null,
      "outputs": []
    },
    {
      "cell_type": "markdown",
      "source": [
        "aggiungere alla lista adesso creata l'elemento: hamburger"
      ],
      "metadata": {
        "id": "pWqUWrWz6Sb1"
      }
    },
    {
      "cell_type": "code",
      "source": [
        "insieme10.add(\"hamburger\")\n",
        "print(insieme10)"
      ],
      "metadata": {
        "id": "RCi8H4Az6Znf"
      },
      "execution_count": null,
      "outputs": []
    },
    {
      "cell_type": "markdown",
      "source": [
        "eliminare tutti gli elementi della lista creata"
      ],
      "metadata": {
        "id": "Os0u-LKF6dkG"
      }
    },
    {
      "cell_type": "code",
      "source": [
        "insieme10.clear()\n",
        "print(insieme10)"
      ],
      "metadata": {
        "id": "6DpVhIYt6eMO"
      },
      "execution_count": null,
      "outputs": []
    },
    {
      "cell_type": "markdown",
      "source": [
        "creare due insiemi con elementi a piacere, poi crearne un terzo con tutti gli elementi degli altri due insiemi"
      ],
      "metadata": {
        "id": "edTdsOnf6iR2"
      }
    },
    {
      "cell_type": "code",
      "source": [],
      "metadata": {
        "id": "zh_neg5w6kKG"
      },
      "execution_count": null,
      "outputs": []
    },
    {
      "cell_type": "markdown",
      "source": [
        "creare due insiemi in modo che ci siamo elementi comuni tra i due insiemi, poi crearne un terzo che contenga solo gli elementi uguali"
      ],
      "metadata": {
        "id": "SA-NMeOF6kje"
      }
    },
    {
      "cell_type": "code",
      "source": [],
      "metadata": {
        "id": "vslztVp96k_e"
      },
      "execution_count": null,
      "outputs": []
    },
    {
      "cell_type": "markdown",
      "source": [
        "inserire in una struttura dati adeguata 20 numeri casuali compresi tra 20 e 50 senza duplicati"
      ],
      "metadata": {
        "id": "rUDred4-6o2t"
      }
    },
    {
      "cell_type": "code",
      "source": [
        "#esercizio sbagliato\n",
        "import random\n",
        "insiemeCasuale = set()\n",
        "for i in range(20):\n",
        "  insiemeCasuale.add(random.randint(20, 50))\n",
        "print(insiemeCasuale)\n",
        "len(insiemeCasuale)"
      ],
      "metadata": {
        "id": "mXGRruQD6ri2"
      },
      "execution_count": null,
      "outputs": []
    },
    {
      "cell_type": "markdown",
      "source": [
        "correzione esercizio precedente"
      ],
      "metadata": {
        "id": "9uHggZLy6ttF"
      }
    },
    {
      "cell_type": "code",
      "source": [
        "insiemeCasuale = set(random.sample(range(20,50),20))\n",
        "print(insiemeCasuale)\n",
        "len(insiemeCasuale)"
      ],
      "metadata": {
        "id": "aMjKGpDy6wP2"
      },
      "execution_count": null,
      "outputs": []
    },
    {
      "cell_type": "markdown",
      "source": [
        "caricare in una lista 20 numeri casuali tra 1 e 100 ed eliminarne i duplicati"
      ],
      "metadata": {
        "id": "asj6CxhT60Bm"
      }
    },
    {
      "cell_type": "code",
      "source": [
        "import random\n",
        "lista=list(set([random.randint(1,100) for i in range(20)]))\n",
        "print(type(lista),lista)"
      ],
      "metadata": {
        "id": "7k0aRmsS6yFG"
      },
      "execution_count": null,
      "outputs": []
    },
    {
      "cell_type": "markdown",
      "source": [
        "***ESERCIZI***"
      ],
      "metadata": {
        "id": "6AkrrQAZ7Mnu"
      }
    },
    {
      "cell_type": "code",
      "source": [
        "squadre = [\"Milan\",\"Juve\",\"Inter\",\"Napoli\",\"Napoli\",\"Inter\",\"Milan\"]\n",
        "print(squadre)"
      ],
      "metadata": {
        "id": "vO7aXil87TiG",
        "outputId": "bef4bee4-9f09-4ed6-cc56-e3ddd99e781f",
        "colab": {
          "base_uri": "https://localhost:8080/"
        }
      },
      "execution_count": null,
      "outputs": [
        {
          "output_type": "stream",
          "name": "stdout",
          "text": [
            "['Milan', 'Juve', 'Inter', 'Napoli', 'Napoli', 'Inter', 'Milan']\n"
          ]
        }
      ]
    },
    {
      "cell_type": "code",
      "source": [
        "squadreSenzaRipetizioni = list(set(squadre))\n",
        "print(squadreSenzaRipetizioni)"
      ],
      "metadata": {
        "id": "CU17_a2W7p6G",
        "outputId": "52b1cdfa-e860-4505-accc-c7bd27ebaa44",
        "colab": {
          "base_uri": "https://localhost:8080/"
        }
      },
      "execution_count": null,
      "outputs": [
        {
          "output_type": "stream",
          "name": "stdout",
          "text": [
            "['Juve', 'Napoli', 'Milan', 'Inter']\n"
          ]
        }
      ]
    },
    {
      "cell_type": "code",
      "source": [
        "studentiMilan = {\"darienzo\",\"berasconi\",\"geremicca\"}\n",
        "studentiInter = {\"milella\",\"lotorto\",\"geremicca\"}\n",
        "print(studentiInter)\n",
        "print(studentiMilan)"
      ],
      "metadata": {
        "id": "igqHAFtA8J1F",
        "outputId": "11833495-9695-4588-fbb0-d3be692ee132",
        "colab": {
          "base_uri": "https://localhost:8080/"
        }
      },
      "execution_count": null,
      "outputs": [
        {
          "output_type": "stream",
          "name": "stdout",
          "text": [
            "{'milella', 'geremicca', 'lotorto'}\n",
            "{'darienzo', 'geremicca', 'berasconi'}\n"
          ]
        }
      ]
    },
    {
      "cell_type": "code",
      "source": [
        "studenti=studentiMilan.union(studentiInter)\n",
        "print(studenti)\n",
        "len(studenti)"
      ],
      "metadata": {
        "id": "pVDAkwI78grf",
        "outputId": "580a709d-b959-496f-d3d9-79ee968f5400",
        "colab": {
          "base_uri": "https://localhost:8080/"
        }
      },
      "execution_count": null,
      "outputs": [
        {
          "output_type": "stream",
          "name": "stdout",
          "text": [
            "{'darienzo', 'milella', 'lotorto', 'geremicca', 'berasconi'}\n"
          ]
        },
        {
          "output_type": "execute_result",
          "data": {
            "text/plain": [
              "5"
            ]
          },
          "metadata": {},
          "execution_count": 5
        }
      ]
    },
    {
      "cell_type": "code",
      "source": [
        "#studenti che tengono tutte e due le squadre\n",
        "studentiDueSquadre = studenti.intersection(studentiInter)\n",
        "print(studentiDueSquadre)"
      ],
      "metadata": {
        "id": "NQ28VpV99hIB",
        "outputId": "44b5413a-8a5e-43b5-b315-7d501672ab4b",
        "colab": {
          "base_uri": "https://localhost:8080/"
        }
      },
      "execution_count": null,
      "outputs": [
        {
          "output_type": "stream",
          "name": "stdout",
          "text": [
            "{'milella', 'geremicca', 'lotorto'}\n"
          ]
        }
      ]
    },
    {
      "cell_type": "code",
      "source": [
        "#studenti che non tifano il Milan\n",
        "studentichetifanosolointer = studentiInter.difference(studentiMilan)\n",
        "print(studentichetifanosolointer)"
      ],
      "metadata": {
        "id": "_i8RRU-n92TH"
      },
      "execution_count": null,
      "outputs": []
    },
    {
      "cell_type": "markdown",
      "source": [
        "**Dizionari**"
      ],
      "metadata": {
        "id": "LablT08xANUW"
      }
    },
    {
      "cell_type": "markdown",
      "source": [],
      "metadata": {
        "id": "YvEKKStJAaN2"
      }
    }
  ]
}